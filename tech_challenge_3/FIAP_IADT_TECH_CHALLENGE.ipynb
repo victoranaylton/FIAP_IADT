{
  "cells": [
    {
      "cell_type": "markdown",
      "metadata": {
        "id": "aGaJVE9urtCz"
      },
      "source": [
        "# Tech Challenge - Fase 3"
      ]
    }
  ],
  "metadata": {
    "colab": {
      "provenance": []
    },
    "kernelspec": {
      "display_name": "Python 3",
      "name": "python3"
    },
    "language_info": {
      "name": "python",
      "version": "3.9.6"
    }
  },
  "nbformat": 4,
  "nbformat_minor": 0
}
